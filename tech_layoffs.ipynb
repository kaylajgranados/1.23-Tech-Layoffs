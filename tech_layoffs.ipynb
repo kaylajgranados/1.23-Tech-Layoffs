{
 "cells": [
  {
   "cell_type": "code",
   "execution_count": 2,
   "metadata": {},
   "outputs": [],
   "source": [
    "import matplotlib.pyplot as plt\n",
    "import pandas as pd\n",
    "import numpy as np"
   ]
  },
  {
   "cell_type": "code",
   "execution_count": 4,
   "metadata": {},
   "outputs": [],
   "source": [
    "tech_layoffs = pd.read_csv('Data/tech_layoffs.csv')"
   ]
  },
  {
   "cell_type": "code",
   "execution_count": 5,
   "metadata": {},
   "outputs": [
    {
     "data": {
      "text/html": [
       "<div>\n",
       "<style scoped>\n",
       "    .dataframe tbody tr th:only-of-type {\n",
       "        vertical-align: middle;\n",
       "    }\n",
       "\n",
       "    .dataframe tbody tr th {\n",
       "        vertical-align: top;\n",
       "    }\n",
       "\n",
       "    .dataframe thead th {\n",
       "        text-align: right;\n",
       "    }\n",
       "</style>\n",
       "<table border=\"1\" class=\"dataframe\">\n",
       "  <thead>\n",
       "    <tr style=\"text-align: right;\">\n",
       "      <th></th>\n",
       "      <th>company</th>\n",
       "      <th>total_layoffs</th>\n",
       "      <th>impacted_workforce_percentage</th>\n",
       "      <th>reported_date</th>\n",
       "      <th>industry</th>\n",
       "      <th>headquarter_location</th>\n",
       "      <th>sources</th>\n",
       "      <th>status</th>\n",
       "      <th>additional_notes</th>\n",
       "    </tr>\n",
       "  </thead>\n",
       "  <tbody>\n",
       "    <tr>\n",
       "      <th>0</th>\n",
       "      <td>C2FO</td>\n",
       "      <td>20</td>\n",
       "      <td>2</td>\n",
       "      <td>12/9/2022</td>\n",
       "      <td>Fintech, payments</td>\n",
       "      <td>Leawood, KS</td>\n",
       "      <td>Kansas City Business Journal</td>\n",
       "      <td>Private</td>\n",
       "      <td>NaN</td>\n",
       "    </tr>\n",
       "    <tr>\n",
       "      <th>1</th>\n",
       "      <td>VideoAmp</td>\n",
       "      <td>Unclear</td>\n",
       "      <td>2</td>\n",
       "      <td>9/19/2022</td>\n",
       "      <td>Advertising platforms</td>\n",
       "      <td>Los Angeles</td>\n",
       "      <td>Company memo</td>\n",
       "      <td>Private</td>\n",
       "      <td>NaN</td>\n",
       "    </tr>\n",
       "    <tr>\n",
       "      <th>2</th>\n",
       "      <td>Amperity</td>\n",
       "      <td>13</td>\n",
       "      <td>3</td>\n",
       "      <td>8/20/2022</td>\n",
       "      <td>Saas, analytics</td>\n",
       "      <td>Seattle</td>\n",
       "      <td>Geekwire</td>\n",
       "      <td>Private</td>\n",
       "      <td>NaN</td>\n",
       "    </tr>\n",
       "    <tr>\n",
       "      <th>3</th>\n",
       "      <td>Addepar</td>\n",
       "      <td>20</td>\n",
       "      <td>3</td>\n",
       "      <td>1/18/2023</td>\n",
       "      <td>fintech, data analytics</td>\n",
       "      <td>Mountain View, CA</td>\n",
       "      <td>Fortune</td>\n",
       "      <td>Private</td>\n",
       "      <td>NaN</td>\n",
       "    </tr>\n",
       "    <tr>\n",
       "      <th>4</th>\n",
       "      <td>Thirty Madison</td>\n",
       "      <td>24</td>\n",
       "      <td>3</td>\n",
       "      <td>5/13/2022</td>\n",
       "      <td>Health Care</td>\n",
       "      <td>New York</td>\n",
       "      <td>Axios</td>\n",
       "      <td>Private</td>\n",
       "      <td>Per Axios, 22 of the employees laid off were f...</td>\n",
       "    </tr>\n",
       "  </tbody>\n",
       "</table>\n",
       "</div>"
      ],
      "text/plain": [
       "          company total_layoffs impacted_workforce_percentage reported_date  \\\n",
       "0            C2FO            20                             2     12/9/2022   \n",
       "1        VideoAmp       Unclear                             2     9/19/2022   \n",
       "2        Amperity            13                             3     8/20/2022   \n",
       "3         Addepar            20                             3     1/18/2023   \n",
       "4  Thirty Madison            24                             3     5/13/2022   \n",
       "\n",
       "                  industry headquarter_location                       sources  \\\n",
       "0        Fintech, payments          Leawood, KS  Kansas City Business Journal   \n",
       "1    Advertising platforms          Los Angeles                  Company memo   \n",
       "2          Saas, analytics              Seattle                      Geekwire   \n",
       "3  fintech, data analytics    Mountain View, CA                       Fortune   \n",
       "4              Health Care             New York                         Axios   \n",
       "\n",
       "    status                                   additional_notes  \n",
       "0  Private                                                NaN  \n",
       "1  Private                                                NaN  \n",
       "2  Private                                                NaN  \n",
       "3  Private                                                NaN  \n",
       "4  Private  Per Axios, 22 of the employees laid off were f...  "
      ]
     },
     "execution_count": 5,
     "metadata": {},
     "output_type": "execute_result"
    }
   ],
   "source": [
    "tech_layoffs.head()"
   ]
  },
  {
   "cell_type": "code",
   "execution_count": 19,
   "metadata": {},
   "outputs": [
    {
     "data": {
      "text/plain": [
       "477"
      ]
     },
     "execution_count": 19,
     "metadata": {},
     "output_type": "execute_result"
    }
   ],
   "source": [
    "#Total companies \n",
    "companies_total= tech_layoffs[\"company\"].count()\n",
    "companies_total\n",
    "\n",
    "#Total unique companies that have laid people off \n",
    "unique_companies_total= tech_layoffs[\"company\"].nunique()\n",
    "unique_companies_total"
   ]
  },
  {
   "cell_type": "code",
   "execution_count": 20,
   "metadata": {},
   "outputs": [
    {
     "data": {
      "text/plain": [
       "'20Unclear132024Unclear2526501111012151502205063750UnclearUnclearUnclear1002023758130203560688490UnclearUnclearUnclear1201202030303256598590Unclear100169707078Unclear1201401421501502130657880UnclearUnclearUnclearUnclearUnclearUnclearUnclearUnclearUnclear20010012313690UnclearUnclearUnclear75010015630404094101242450557Unclear10012513UnclearUnclearUnclear16250304547554UnclearUnclearUnclearUnclearUnclearUnclearUnclearUnclearUnclearUnclearUnclearUnclearUnclearUnclear20450200150170308084UnclearUnclear273030UnclearUnclear1044380UnclearUnclearUnclear1201301501501562002525426030304057640677690UnclearUnclearUnclearUnclearUnclear104243223592376Unclear57Unclear10015016170252532377274950UnclearUnclearUnclear27Unclear303784310010010011003260UnclearUnclear16217325033404044505080UnclearUnclear15826270UnclearUnclear12059Unclear15064Unclear2050001111705088Unclear22060Unclear7610001011404006085UnclearUnclearUnclearUnclearUnclearUnclearUnclearUnclearUnclearUnclearUnclearUnclearUnclearUnclearUnclearUnclearUnclearUnclearUnclearUnclear121410010010010410501091095113131401491616316717518019224226232300253103335370404040404040444545050545873758082859097UnclearUnclearUnclearUnclearUnclearUnclearUnclearUnclearUnclearUnclearUnclearUnclearUnclearUnclearUnclearUnclearUnclearUnclearUnclearUnclearUnclearUnclearUnclearUnclearUnclearUnclearUnclearUnclearUnclearUnclearUnclearUnclearUnclearUnclearUnclearUnclearUnclearUnclearUnclearUnclearUnclearUnclearUnclearUnclearUnclearUnclearUnclearUnclearUnclearUnclearUnclearUnclearUnclearUnclearUnclearUnclearUnclearUnclearUnclearUnclearUnclearUnclear100Unclear903238437002701101800030035041006095Unclear10058812503030055840Unclear100155200450Unclear50918025Unclear1001000120140200707099UnclearUnclearUnclearUnclear75800Unclear180300Unclear11000120UnclearUnclear22595Unclear500760UnclearUnclearUnclear140Unclear4005501332128040060800UnclearUnclearUnclear56Unclear138Unclear350Unclear83Unclear400461013250647Unclear1157504672110Unclear3740Unclear804000100100010000120001532424030040844514805586369728258709090UnclearUnclearUnclearUnclear'"
      ]
     },
     "execution_count": 20,
     "metadata": {},
     "output_type": "execute_result"
    }
   ],
   "source": [
    "#Drop \"unclear\" from total number of tech workers\n",
    "\n",
    "\n",
    "# Total # of tech workers laid off \n",
    "total_layoffs = tech_layoffs[\"total_layoffs\"].sum()\n",
    "total_layoffs"
   ]
  }
 ],
 "metadata": {
  "kernelspec": {
   "display_name": "Python 3.9.12 ('base')",
   "language": "python",
   "name": "python3"
  },
  "language_info": {
   "codemirror_mode": {
    "name": "ipython",
    "version": 3
   },
   "file_extension": ".py",
   "mimetype": "text/x-python",
   "name": "python",
   "nbconvert_exporter": "python",
   "pygments_lexer": "ipython3",
   "version": "3.9.12"
  },
  "orig_nbformat": 4,
  "vscode": {
   "interpreter": {
    "hash": "3d1748e3e6b502ceef857afceb126ed838b595688a49a2c168bcf950cfc9332f"
   }
  }
 },
 "nbformat": 4,
 "nbformat_minor": 2
}
